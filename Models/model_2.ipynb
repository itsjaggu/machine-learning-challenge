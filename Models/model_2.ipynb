{
 "cells": [
  {
   "cell_type": "code",
   "execution_count": 1,
   "metadata": {
    "scrolled": true
   },
   "outputs": [
    {
     "output_type": "stream",
     "name": "stdout",
     "text": [
      "Requirement already up-to-date: sklearn in c:\\programdata\\anaconda3\\lib\\site-packages (0.0)\nRequirement already satisfied, skipping upgrade: scikit-learn in c:\\programdata\\anaconda3\\lib\\site-packages (from sklearn) (0.23.2)\nRequirement already satisfied, skipping upgrade: joblib>=0.11 in c:\\programdata\\anaconda3\\lib\\site-packages (from scikit-learn->sklearn) (0.17.0)\nRequirement already satisfied, skipping upgrade: threadpoolctl>=2.0.0 in c:\\programdata\\anaconda3\\lib\\site-packages (from scikit-learn->sklearn) (2.1.0)\nRequirement already satisfied, skipping upgrade: scipy>=0.19.1 in c:\\programdata\\anaconda3\\lib\\site-packages (from scikit-learn->sklearn) (1.5.2)\nRequirement already satisfied, skipping upgrade: numpy>=1.13.3 in c:\\programdata\\anaconda3\\lib\\site-packages (from scikit-learn->sklearn) (1.19.2)\n"
     ]
    }
   ],
   "source": [
    "# Update sklearn to prevent version mismatches\n",
    "!pip install sklearn --upgrade"
   ]
  },
  {
   "cell_type": "code",
   "execution_count": 2,
   "metadata": {},
   "outputs": [
    {
     "output_type": "stream",
     "name": "stdout",
     "text": [
      "Requirement already satisfied: joblib in c:\\programdata\\anaconda3\\lib\\site-packages (0.17.0)\n"
     ]
    }
   ],
   "source": [
    "# install joblib. This will be used to save the model. \n",
    "!pip install joblib"
   ]
  },
  {
   "cell_type": "code",
   "execution_count": 3,
   "metadata": {},
   "outputs": [],
   "source": [
    "import pandas as pd"
   ]
  },
  {
   "cell_type": "markdown",
   "metadata": {},
   "source": [
    "# Read the CSV and Perform Basic Data Cleaning"
   ]
  },
  {
   "cell_type": "code",
   "execution_count": 4,
   "metadata": {
    "scrolled": true
   },
   "outputs": [
    {
     "output_type": "execute_result",
     "data": {
      "text/plain": [
       "  koi_disposition  koi_fpflag_nt  koi_fpflag_ss  koi_fpflag_co  koi_fpflag_ec  \\\n",
       "0       CONFIRMED              0              0              0              0   \n",
       "1  FALSE POSITIVE              0              1              0              0   \n",
       "2  FALSE POSITIVE              0              1              0              0   \n",
       "3       CONFIRMED              0              0              0              0   \n",
       "4       CONFIRMED              0              0              0              0   \n",
       "\n",
       "   koi_period  koi_period_err1  koi_period_err2  koi_time0bk  \\\n",
       "0   54.418383     2.479000e-04    -2.479000e-04   162.513840   \n",
       "1   19.899140     1.490000e-05    -1.490000e-05   175.850252   \n",
       "2    1.736952     2.630000e-07    -2.630000e-07   170.307565   \n",
       "3    2.525592     3.760000e-06    -3.760000e-06   171.595550   \n",
       "4    4.134435     1.050000e-05    -1.050000e-05   172.979370   \n",
       "\n",
       "   koi_time0bk_err1  ...  koi_steff_err2  koi_slogg  koi_slogg_err1  \\\n",
       "0          0.003520  ...             -81      4.467           0.064   \n",
       "1          0.000581  ...            -176      4.544           0.044   \n",
       "2          0.000115  ...            -174      4.564           0.053   \n",
       "3          0.001130  ...            -211      4.438           0.070   \n",
       "4          0.001900  ...            -232      4.486           0.054   \n",
       "\n",
       "   koi_slogg_err2  koi_srad  koi_srad_err1  koi_srad_err2         ra  \\\n",
       "0          -0.096     0.927          0.105         -0.061  291.93423   \n",
       "1          -0.176     0.868          0.233         -0.078  297.00482   \n",
       "2          -0.168     0.791          0.201         -0.067  285.53461   \n",
       "3          -0.210     1.046          0.334         -0.133  288.75488   \n",
       "4          -0.229     0.972          0.315         -0.105  296.28613   \n",
       "\n",
       "         dec  koi_kepmag  \n",
       "0  48.141651      15.347  \n",
       "1  48.134129      15.436  \n",
       "2  48.285210      15.597  \n",
       "3  48.226200      15.509  \n",
       "4  48.224670      15.714  \n",
       "\n",
       "[5 rows x 41 columns]"
      ],
      "text/html": "<div>\n<style scoped>\n    .dataframe tbody tr th:only-of-type {\n        vertical-align: middle;\n    }\n\n    .dataframe tbody tr th {\n        vertical-align: top;\n    }\n\n    .dataframe thead th {\n        text-align: right;\n    }\n</style>\n<table border=\"1\" class=\"dataframe\">\n  <thead>\n    <tr style=\"text-align: right;\">\n      <th></th>\n      <th>koi_disposition</th>\n      <th>koi_fpflag_nt</th>\n      <th>koi_fpflag_ss</th>\n      <th>koi_fpflag_co</th>\n      <th>koi_fpflag_ec</th>\n      <th>koi_period</th>\n      <th>koi_period_err1</th>\n      <th>koi_period_err2</th>\n      <th>koi_time0bk</th>\n      <th>koi_time0bk_err1</th>\n      <th>...</th>\n      <th>koi_steff_err2</th>\n      <th>koi_slogg</th>\n      <th>koi_slogg_err1</th>\n      <th>koi_slogg_err2</th>\n      <th>koi_srad</th>\n      <th>koi_srad_err1</th>\n      <th>koi_srad_err2</th>\n      <th>ra</th>\n      <th>dec</th>\n      <th>koi_kepmag</th>\n    </tr>\n  </thead>\n  <tbody>\n    <tr>\n      <th>0</th>\n      <td>CONFIRMED</td>\n      <td>0</td>\n      <td>0</td>\n      <td>0</td>\n      <td>0</td>\n      <td>54.418383</td>\n      <td>2.479000e-04</td>\n      <td>-2.479000e-04</td>\n      <td>162.513840</td>\n      <td>0.003520</td>\n      <td>...</td>\n      <td>-81</td>\n      <td>4.467</td>\n      <td>0.064</td>\n      <td>-0.096</td>\n      <td>0.927</td>\n      <td>0.105</td>\n      <td>-0.061</td>\n      <td>291.93423</td>\n      <td>48.141651</td>\n      <td>15.347</td>\n    </tr>\n    <tr>\n      <th>1</th>\n      <td>FALSE POSITIVE</td>\n      <td>0</td>\n      <td>1</td>\n      <td>0</td>\n      <td>0</td>\n      <td>19.899140</td>\n      <td>1.490000e-05</td>\n      <td>-1.490000e-05</td>\n      <td>175.850252</td>\n      <td>0.000581</td>\n      <td>...</td>\n      <td>-176</td>\n      <td>4.544</td>\n      <td>0.044</td>\n      <td>-0.176</td>\n      <td>0.868</td>\n      <td>0.233</td>\n      <td>-0.078</td>\n      <td>297.00482</td>\n      <td>48.134129</td>\n      <td>15.436</td>\n    </tr>\n    <tr>\n      <th>2</th>\n      <td>FALSE POSITIVE</td>\n      <td>0</td>\n      <td>1</td>\n      <td>0</td>\n      <td>0</td>\n      <td>1.736952</td>\n      <td>2.630000e-07</td>\n      <td>-2.630000e-07</td>\n      <td>170.307565</td>\n      <td>0.000115</td>\n      <td>...</td>\n      <td>-174</td>\n      <td>4.564</td>\n      <td>0.053</td>\n      <td>-0.168</td>\n      <td>0.791</td>\n      <td>0.201</td>\n      <td>-0.067</td>\n      <td>285.53461</td>\n      <td>48.285210</td>\n      <td>15.597</td>\n    </tr>\n    <tr>\n      <th>3</th>\n      <td>CONFIRMED</td>\n      <td>0</td>\n      <td>0</td>\n      <td>0</td>\n      <td>0</td>\n      <td>2.525592</td>\n      <td>3.760000e-06</td>\n      <td>-3.760000e-06</td>\n      <td>171.595550</td>\n      <td>0.001130</td>\n      <td>...</td>\n      <td>-211</td>\n      <td>4.438</td>\n      <td>0.070</td>\n      <td>-0.210</td>\n      <td>1.046</td>\n      <td>0.334</td>\n      <td>-0.133</td>\n      <td>288.75488</td>\n      <td>48.226200</td>\n      <td>15.509</td>\n    </tr>\n    <tr>\n      <th>4</th>\n      <td>CONFIRMED</td>\n      <td>0</td>\n      <td>0</td>\n      <td>0</td>\n      <td>0</td>\n      <td>4.134435</td>\n      <td>1.050000e-05</td>\n      <td>-1.050000e-05</td>\n      <td>172.979370</td>\n      <td>0.001900</td>\n      <td>...</td>\n      <td>-232</td>\n      <td>4.486</td>\n      <td>0.054</td>\n      <td>-0.229</td>\n      <td>0.972</td>\n      <td>0.315</td>\n      <td>-0.105</td>\n      <td>296.28613</td>\n      <td>48.224670</td>\n      <td>15.714</td>\n    </tr>\n  </tbody>\n</table>\n<p>5 rows × 41 columns</p>\n</div>"
     },
     "metadata": {},
     "execution_count": 4
    }
   ],
   "source": [
    "#Readin Exoplanet data\n",
    "df = pd.read_csv(\"exoplanet_data.csv\")\n",
    "# Drop the null columns where all values are null\n",
    "df = df.dropna(axis='columns', how='all')\n",
    "# Drop the null rows\n",
    "df = df.dropna()\n",
    "df.head()"
   ]
  },
  {
   "cell_type": "code",
   "execution_count": 5,
   "metadata": {
    "scrolled": true
   },
   "outputs": [
    {
     "output_type": "execute_result",
     "data": {
      "text/plain": [
       "Index(['koi_disposition', 'koi_fpflag_nt', 'koi_fpflag_ss', 'koi_fpflag_co',\n",
       "       'koi_fpflag_ec', 'koi_period', 'koi_period_err1', 'koi_period_err2',\n",
       "       'koi_time0bk', 'koi_time0bk_err1', 'koi_time0bk_err2', 'koi_impact',\n",
       "       'koi_impact_err1', 'koi_impact_err2', 'koi_duration',\n",
       "       'koi_duration_err1', 'koi_duration_err2', 'koi_depth', 'koi_depth_err1',\n",
       "       'koi_depth_err2', 'koi_prad', 'koi_prad_err1', 'koi_prad_err2',\n",
       "       'koi_teq', 'koi_insol', 'koi_insol_err1', 'koi_insol_err2',\n",
       "       'koi_model_snr', 'koi_tce_plnt_num', 'koi_steff', 'koi_steff_err1',\n",
       "       'koi_steff_err2', 'koi_slogg', 'koi_slogg_err1', 'koi_slogg_err2',\n",
       "       'koi_srad', 'koi_srad_err1', 'koi_srad_err2', 'ra', 'dec',\n",
       "       'koi_kepmag'],\n",
       "      dtype='object')"
      ]
     },
     "metadata": {},
     "execution_count": 5
    }
   ],
   "source": [
    "#Getting column names\n",
    "df.columns"
   ]
  },
  {
   "cell_type": "markdown",
   "metadata": {},
   "source": [
    "# Select your features (columns)"
   ]
  },
  {
   "cell_type": "code",
   "execution_count": 6,
   "metadata": {},
   "outputs": [
    {
     "output_type": "execute_result",
     "data": {
      "text/plain": [
       "   koi_fpflag_nt  koi_fpflag_ss  koi_fpflag_co  koi_fpflag_ec  koi_period  \\\n",
       "0              0              0              0              0   54.418383   \n",
       "1              0              1              0              0   19.899140   \n",
       "2              0              1              0              0    1.736952   \n",
       "3              0              0              0              0    2.525592   \n",
       "4              0              0              0              0    4.134435   \n",
       "\n",
       "   koi_time0bk  koi_impact  koi_duration  koi_depth  koi_prad  koi_teq  \\\n",
       "0   162.513840       0.586       4.50700      874.8      2.83      443   \n",
       "1   175.850252       0.969       1.78220    10829.0     14.60      638   \n",
       "2   170.307565       1.276       2.40641     8079.2     33.46     1395   \n",
       "3   171.595550       0.701       1.65450      603.3      2.75     1406   \n",
       "4   172.979370       0.762       3.14020      686.0      2.77     1160   \n",
       "\n",
       "   koi_insol  koi_model_snr  koi_steff  koi_slogg  koi_srad         ra  \\\n",
       "0       9.11           25.8       5455      4.467     0.927  291.93423   \n",
       "1      39.30           76.3       5853      4.544     0.868  297.00482   \n",
       "2     891.96          505.6       5805      4.564     0.791  285.53461   \n",
       "3     926.16           40.9       6031      4.438     1.046  288.75488   \n",
       "4     427.65           40.2       6046      4.486     0.972  296.28613   \n",
       "\n",
       "         dec  koi_kepmag  \n",
       "0  48.141651      15.347  \n",
       "1  48.134129      15.436  \n",
       "2  48.285210      15.597  \n",
       "3  48.226200      15.509  \n",
       "4  48.224670      15.714  "
      ],
      "text/html": "<div>\n<style scoped>\n    .dataframe tbody tr th:only-of-type {\n        vertical-align: middle;\n    }\n\n    .dataframe tbody tr th {\n        vertical-align: top;\n    }\n\n    .dataframe thead th {\n        text-align: right;\n    }\n</style>\n<table border=\"1\" class=\"dataframe\">\n  <thead>\n    <tr style=\"text-align: right;\">\n      <th></th>\n      <th>koi_fpflag_nt</th>\n      <th>koi_fpflag_ss</th>\n      <th>koi_fpflag_co</th>\n      <th>koi_fpflag_ec</th>\n      <th>koi_period</th>\n      <th>koi_time0bk</th>\n      <th>koi_impact</th>\n      <th>koi_duration</th>\n      <th>koi_depth</th>\n      <th>koi_prad</th>\n      <th>koi_teq</th>\n      <th>koi_insol</th>\n      <th>koi_model_snr</th>\n      <th>koi_steff</th>\n      <th>koi_slogg</th>\n      <th>koi_srad</th>\n      <th>ra</th>\n      <th>dec</th>\n      <th>koi_kepmag</th>\n    </tr>\n  </thead>\n  <tbody>\n    <tr>\n      <th>0</th>\n      <td>0</td>\n      <td>0</td>\n      <td>0</td>\n      <td>0</td>\n      <td>54.418383</td>\n      <td>162.513840</td>\n      <td>0.586</td>\n      <td>4.50700</td>\n      <td>874.8</td>\n      <td>2.83</td>\n      <td>443</td>\n      <td>9.11</td>\n      <td>25.8</td>\n      <td>5455</td>\n      <td>4.467</td>\n      <td>0.927</td>\n      <td>291.93423</td>\n      <td>48.141651</td>\n      <td>15.347</td>\n    </tr>\n    <tr>\n      <th>1</th>\n      <td>0</td>\n      <td>1</td>\n      <td>0</td>\n      <td>0</td>\n      <td>19.899140</td>\n      <td>175.850252</td>\n      <td>0.969</td>\n      <td>1.78220</td>\n      <td>10829.0</td>\n      <td>14.60</td>\n      <td>638</td>\n      <td>39.30</td>\n      <td>76.3</td>\n      <td>5853</td>\n      <td>4.544</td>\n      <td>0.868</td>\n      <td>297.00482</td>\n      <td>48.134129</td>\n      <td>15.436</td>\n    </tr>\n    <tr>\n      <th>2</th>\n      <td>0</td>\n      <td>1</td>\n      <td>0</td>\n      <td>0</td>\n      <td>1.736952</td>\n      <td>170.307565</td>\n      <td>1.276</td>\n      <td>2.40641</td>\n      <td>8079.2</td>\n      <td>33.46</td>\n      <td>1395</td>\n      <td>891.96</td>\n      <td>505.6</td>\n      <td>5805</td>\n      <td>4.564</td>\n      <td>0.791</td>\n      <td>285.53461</td>\n      <td>48.285210</td>\n      <td>15.597</td>\n    </tr>\n    <tr>\n      <th>3</th>\n      <td>0</td>\n      <td>0</td>\n      <td>0</td>\n      <td>0</td>\n      <td>2.525592</td>\n      <td>171.595550</td>\n      <td>0.701</td>\n      <td>1.65450</td>\n      <td>603.3</td>\n      <td>2.75</td>\n      <td>1406</td>\n      <td>926.16</td>\n      <td>40.9</td>\n      <td>6031</td>\n      <td>4.438</td>\n      <td>1.046</td>\n      <td>288.75488</td>\n      <td>48.226200</td>\n      <td>15.509</td>\n    </tr>\n    <tr>\n      <th>4</th>\n      <td>0</td>\n      <td>0</td>\n      <td>0</td>\n      <td>0</td>\n      <td>4.134435</td>\n      <td>172.979370</td>\n      <td>0.762</td>\n      <td>3.14020</td>\n      <td>686.0</td>\n      <td>2.77</td>\n      <td>1160</td>\n      <td>427.65</td>\n      <td>40.2</td>\n      <td>6046</td>\n      <td>4.486</td>\n      <td>0.972</td>\n      <td>296.28613</td>\n      <td>48.224670</td>\n      <td>15.714</td>\n    </tr>\n  </tbody>\n</table>\n</div>"
     },
     "metadata": {},
     "execution_count": 6
    }
   ],
   "source": [
    "# Set features. This will also be used as x values in model computation.\n",
    "selected_features = df[['koi_fpflag_nt'\n",
    "                        ,'koi_fpflag_ss'\n",
    "                        ,'koi_fpflag_co'\n",
    "                        ,'koi_fpflag_ec'\n",
    "                        ,'koi_period'\n",
    "                        ,'koi_time0bk'\n",
    "                        ,'koi_impact'\n",
    "                        ,'koi_duration'\n",
    "                        ,'koi_depth'\n",
    "                        ,'koi_prad'\n",
    "                        ,'koi_teq'\n",
    "                        ,'koi_insol'\n",
    "                        ,'koi_model_snr'\n",
    "                        ,'koi_steff'\n",
    "                        ,'koi_slogg'\n",
    "                        ,'koi_srad'\n",
    "                        ,'ra'\n",
    "                        ,'dec'\n",
    "                        ,'koi_kepmag']]\n",
    "selected_features.head()"
   ]
  },
  {
   "cell_type": "markdown",
   "metadata": {},
   "source": [
    "# Create a Train Test Split\n"
   ]
  },
  {
   "cell_type": "code",
   "execution_count": 7,
   "metadata": {},
   "outputs": [],
   "source": [
    "# scikit-learn import and splitting data in Test-Train\n",
    "from sklearn.model_selection import train_test_split\n",
    "\n",
    "X = selected_features\n",
    "y = df['koi_disposition'].values\n",
    "\n",
    "X_train, X_test, y_train, y_test = train_test_split(X, y, random_state=42, stratify = y)"
   ]
  },
  {
   "cell_type": "code",
   "execution_count": 8,
   "metadata": {},
   "outputs": [
    {
     "output_type": "execute_result",
     "data": {
      "text/plain": [
       "      koi_fpflag_nt  koi_fpflag_ss  koi_fpflag_co  koi_fpflag_ec  koi_period  \\\n",
       "6080              1              0              0              0   12.496435   \n",
       "3001              0              0              0              0   11.615625   \n",
       "570               0              1              0              0   10.980246   \n",
       "4897              1              0              0              0  466.908240   \n",
       "625               0              1              1              1    1.061933   \n",
       "\n",
       "      koi_time0bk  koi_impact  koi_duration  koi_depth  koi_prad  koi_teq  \\\n",
       "6080   132.035800      1.1700      84.32000      271.7     55.34     1397   \n",
       "3001   131.968430      0.9770       2.23300      191.2      2.84      905   \n",
       "570    137.137607      0.7330       3.74464    50078.0     21.94      821   \n",
       "4897   136.373100      0.0868       2.64000      660.0      2.19      210   \n",
       "625    133.850441      0.7130       2.14290      133.6      2.29     2508   \n",
       "\n",
       "      koi_insol  koi_model_snr  koi_steff  koi_slogg  koi_srad         ra  \\\n",
       "6080     899.44          141.5       6821      3.805     2.730  289.23080   \n",
       "3001     158.69            8.8       5332      4.083     1.453  293.52756   \n",
       "570      107.47         1555.4       5952      4.462     0.897  282.79764   \n",
       "4897       0.46            5.4       5340      4.456     0.867  297.65436   \n",
       "625     9391.15           80.2       6134      3.975     1.851  288.90253   \n",
       "\n",
       "            dec  koi_kepmag  \n",
       "6080  44.412483      13.054  \n",
       "3001  41.111439      15.162  \n",
       "570   43.578129      14.212  \n",
       "4897  43.178551      15.202  \n",
       "625   44.632992      12.953  "
      ],
      "text/html": "<div>\n<style scoped>\n    .dataframe tbody tr th:only-of-type {\n        vertical-align: middle;\n    }\n\n    .dataframe tbody tr th {\n        vertical-align: top;\n    }\n\n    .dataframe thead th {\n        text-align: right;\n    }\n</style>\n<table border=\"1\" class=\"dataframe\">\n  <thead>\n    <tr style=\"text-align: right;\">\n      <th></th>\n      <th>koi_fpflag_nt</th>\n      <th>koi_fpflag_ss</th>\n      <th>koi_fpflag_co</th>\n      <th>koi_fpflag_ec</th>\n      <th>koi_period</th>\n      <th>koi_time0bk</th>\n      <th>koi_impact</th>\n      <th>koi_duration</th>\n      <th>koi_depth</th>\n      <th>koi_prad</th>\n      <th>koi_teq</th>\n      <th>koi_insol</th>\n      <th>koi_model_snr</th>\n      <th>koi_steff</th>\n      <th>koi_slogg</th>\n      <th>koi_srad</th>\n      <th>ra</th>\n      <th>dec</th>\n      <th>koi_kepmag</th>\n    </tr>\n  </thead>\n  <tbody>\n    <tr>\n      <th>6080</th>\n      <td>1</td>\n      <td>0</td>\n      <td>0</td>\n      <td>0</td>\n      <td>12.496435</td>\n      <td>132.035800</td>\n      <td>1.1700</td>\n      <td>84.32000</td>\n      <td>271.7</td>\n      <td>55.34</td>\n      <td>1397</td>\n      <td>899.44</td>\n      <td>141.5</td>\n      <td>6821</td>\n      <td>3.805</td>\n      <td>2.730</td>\n      <td>289.23080</td>\n      <td>44.412483</td>\n      <td>13.054</td>\n    </tr>\n    <tr>\n      <th>3001</th>\n      <td>0</td>\n      <td>0</td>\n      <td>0</td>\n      <td>0</td>\n      <td>11.615625</td>\n      <td>131.968430</td>\n      <td>0.9770</td>\n      <td>2.23300</td>\n      <td>191.2</td>\n      <td>2.84</td>\n      <td>905</td>\n      <td>158.69</td>\n      <td>8.8</td>\n      <td>5332</td>\n      <td>4.083</td>\n      <td>1.453</td>\n      <td>293.52756</td>\n      <td>41.111439</td>\n      <td>15.162</td>\n    </tr>\n    <tr>\n      <th>570</th>\n      <td>0</td>\n      <td>1</td>\n      <td>0</td>\n      <td>0</td>\n      <td>10.980246</td>\n      <td>137.137607</td>\n      <td>0.7330</td>\n      <td>3.74464</td>\n      <td>50078.0</td>\n      <td>21.94</td>\n      <td>821</td>\n      <td>107.47</td>\n      <td>1555.4</td>\n      <td>5952</td>\n      <td>4.462</td>\n      <td>0.897</td>\n      <td>282.79764</td>\n      <td>43.578129</td>\n      <td>14.212</td>\n    </tr>\n    <tr>\n      <th>4897</th>\n      <td>1</td>\n      <td>0</td>\n      <td>0</td>\n      <td>0</td>\n      <td>466.908240</td>\n      <td>136.373100</td>\n      <td>0.0868</td>\n      <td>2.64000</td>\n      <td>660.0</td>\n      <td>2.19</td>\n      <td>210</td>\n      <td>0.46</td>\n      <td>5.4</td>\n      <td>5340</td>\n      <td>4.456</td>\n      <td>0.867</td>\n      <td>297.65436</td>\n      <td>43.178551</td>\n      <td>15.202</td>\n    </tr>\n    <tr>\n      <th>625</th>\n      <td>0</td>\n      <td>1</td>\n      <td>1</td>\n      <td>1</td>\n      <td>1.061933</td>\n      <td>133.850441</td>\n      <td>0.7130</td>\n      <td>2.14290</td>\n      <td>133.6</td>\n      <td>2.29</td>\n      <td>2508</td>\n      <td>9391.15</td>\n      <td>80.2</td>\n      <td>6134</td>\n      <td>3.975</td>\n      <td>1.851</td>\n      <td>288.90253</td>\n      <td>44.632992</td>\n      <td>12.953</td>\n    </tr>\n  </tbody>\n</table>\n</div>"
     },
     "metadata": {},
     "execution_count": 8
    }
   ],
   "source": [
    "X_train.head()"
   ]
  },
  {
   "cell_type": "markdown",
   "metadata": {},
   "source": [
    "# Pre-processing\n",
    "\n",
    "Scaling the data using the MinMaxScaler and performing some feature selection"
   ]
  },
  {
   "cell_type": "code",
   "execution_count": 9,
   "metadata": {},
   "outputs": [],
   "source": [
    "# Scaling data\n",
    "from sklearn.preprocessing import MinMaxScaler\n",
    "\n",
    "X_scaler = MinMaxScaler().fit(X_train)\n",
    "\n",
    "X_train_scaled = X_scaler.transform(X_train)\n",
    "X_test_scaled = X_scaler.transform(X_test)"
   ]
  },
  {
   "cell_type": "markdown",
   "metadata": {},
   "source": [
    "# Train the Model\n",
    "\n"
   ]
  },
  {
   "cell_type": "code",
   "execution_count": 10,
   "metadata": {},
   "outputs": [],
   "source": [
    "# Random Forest model\n",
    "from sklearn.ensemble import RandomForestClassifier\n",
    "\n",
    "rf = RandomForestClassifier(n_estimators=50)\n",
    "rf = rf.fit(X_train_scaled, y_train)"
   ]
  },
  {
   "cell_type": "code",
   "execution_count": 11,
   "metadata": {},
   "outputs": [
    {
     "output_type": "stream",
     "name": "stdout",
     "text": [
      "Training Data Score: 0.9998092695021934\nTesting Data Score: 0.9044622425629291\n"
     ]
    }
   ],
   "source": [
    "print(f\"Training Data Score: {rf.score(X_train_scaled, y_train)}\")\n",
    "print(f\"Testing Data Score: {rf.score(X_test_scaled, y_test)}\")"
   ]
  },
  {
   "cell_type": "markdown",
   "metadata": {},
   "source": [
    "# Hyperparameter Tuning\n",
    "\n",
    "Using `GridSearchCV` to tune the model's parameters"
   ]
  },
  {
   "cell_type": "code",
   "execution_count": 12,
   "metadata": {},
   "outputs": [],
   "source": [
    "# Creating the GridSearchCV model\n",
    "from sklearn.model_selection import GridSearchCV\n",
    "param_grid = {'n_estimators' : [0,10,20,30,40,50,100,200]}\n",
    "grid = GridSearchCV(rf, param_grid, verbose = 3)"
   ]
  },
  {
   "cell_type": "code",
   "execution_count": 13,
   "metadata": {},
   "outputs": [
    {
     "output_type": "stream",
     "name": "stdout",
     "text": [
      "Fitting 5 folds for each of 8 candidates, totalling 40 fits\n",
      "[CV] n_estimators=0 ..................................................\n",
      "[CV] ........................ n_estimators=0, score=nan, total=   0.0s\n",
      "[CV] n_estimators=0 ..................................................\n",
      "[CV] ........................ n_estimators=0, score=nan, total=   0.0s\n",
      "[CV] n_estimators=0 ..................................................\n",
      "[CV] ........................ n_estimators=0, score=nan, total=   0.0s\n",
      "[CV] n_estimators=0 ..................................................\n",
      "[CV] ........................ n_estimators=0, score=nan, total=   0.0s\n",
      "[CV] n_estimators=0 ..................................................\n",
      "[CV] ........................ n_estimators=0, score=nan, total=   0.0s\n",
      "[CV] n_estimators=10 .................................................\n",
      "[CV] ..................... n_estimators=10, score=0.888, total=   0.1s\n",
      "[CV] n_estimators=10 .................................................\n",
      "[CV] ..................... n_estimators=10, score=0.877, total=   0.1s\n",
      "[CV] n_estimators=10 .................................................\n",
      "[Parallel(n_jobs=1)]: Using backend SequentialBackend with 1 concurrent workers.\n",
      "[Parallel(n_jobs=1)]: Done   1 out of   1 | elapsed:    0.0s remaining:    0.0s\n",
      "[Parallel(n_jobs=1)]: Done   2 out of   2 | elapsed:    0.0s remaining:    0.0s\n",
      "[CV] ..................... n_estimators=10, score=0.887, total=   0.1s\n",
      "[CV] n_estimators=10 .................................................\n",
      "[CV] ..................... n_estimators=10, score=0.882, total=   0.1s\n",
      "[CV] n_estimators=10 .................................................\n",
      "[CV] ..................... n_estimators=10, score=0.875, total=   0.1s\n",
      "[CV] n_estimators=20 .................................................\n",
      "[CV] ..................... n_estimators=20, score=0.886, total=   0.2s\n",
      "[CV] n_estimators=20 .................................................\n",
      "[CV] ..................... n_estimators=20, score=0.885, total=   0.2s\n",
      "[CV] n_estimators=20 .................................................\n",
      "[CV] ..................... n_estimators=20, score=0.898, total=   0.2s\n",
      "[CV] n_estimators=20 .................................................\n",
      "[CV] ..................... n_estimators=20, score=0.896, total=   0.2s\n",
      "[CV] n_estimators=20 .................................................\n",
      "[CV] ..................... n_estimators=20, score=0.886, total=   0.2s\n",
      "[CV] n_estimators=30 .................................................\n",
      "[CV] ..................... n_estimators=30, score=0.889, total=   0.3s\n",
      "[CV] n_estimators=30 .................................................\n",
      "[CV] ..................... n_estimators=30, score=0.889, total=   0.2s\n",
      "[CV] n_estimators=30 .................................................\n",
      "[CV] ..................... n_estimators=30, score=0.888, total=   0.3s\n",
      "[CV] n_estimators=30 .................................................\n",
      "[CV] ..................... n_estimators=30, score=0.893, total=   0.3s\n",
      "[CV] n_estimators=30 .................................................\n",
      "[CV] ..................... n_estimators=30, score=0.884, total=   0.2s\n",
      "[CV] n_estimators=40 .................................................\n",
      "[CV] ..................... n_estimators=40, score=0.907, total=   0.3s\n",
      "[CV] n_estimators=40 .................................................\n",
      "[CV] ..................... n_estimators=40, score=0.896, total=   0.3s\n",
      "[CV] n_estimators=40 .................................................\n",
      "[CV] ..................... n_estimators=40, score=0.902, total=   0.3s\n",
      "[CV] n_estimators=40 .................................................\n",
      "[CV] ..................... n_estimators=40, score=0.889, total=   0.3s\n",
      "[CV] n_estimators=40 .................................................\n",
      "[CV] ..................... n_estimators=40, score=0.885, total=   0.3s\n",
      "[CV] n_estimators=50 .................................................\n",
      "[CV] ..................... n_estimators=50, score=0.895, total=   0.4s\n",
      "[CV] n_estimators=50 .................................................\n",
      "[CV] ..................... n_estimators=50, score=0.895, total=   0.4s\n",
      "[CV] n_estimators=50 .................................................\n",
      "[CV] ..................... n_estimators=50, score=0.898, total=   0.4s\n",
      "[CV] n_estimators=50 .................................................\n",
      "[CV] ..................... n_estimators=50, score=0.894, total=   0.4s\n",
      "[CV] n_estimators=50 .................................................\n",
      "[CV] ..................... n_estimators=50, score=0.884, total=   0.4s\n",
      "[CV] n_estimators=100 ................................................\n",
      "[CV] .................... n_estimators=100, score=0.897, total=   0.8s\n",
      "[CV] n_estimators=100 ................................................\n",
      "[CV] .................... n_estimators=100, score=0.888, total=   0.8s\n",
      "[CV] n_estimators=100 ................................................\n",
      "[CV] .................... n_estimators=100, score=0.901, total=   0.8s\n",
      "[CV] n_estimators=100 ................................................\n",
      "[CV] .................... n_estimators=100, score=0.895, total=   0.8s\n",
      "[CV] n_estimators=100 ................................................\n",
      "[CV] .................... n_estimators=100, score=0.884, total=   0.8s\n",
      "[CV] n_estimators=200 ................................................\n",
      "[CV] .................... n_estimators=200, score=0.899, total=   1.6s\n",
      "[CV] n_estimators=200 ................................................\n",
      "[CV] .................... n_estimators=200, score=0.896, total=   1.6s\n",
      "[CV] n_estimators=200 ................................................\n",
      "[CV] .................... n_estimators=200, score=0.896, total=   1.5s\n",
      "[CV] n_estimators=200 ................................................\n",
      "[CV] .................... n_estimators=200, score=0.892, total=   1.5s\n",
      "[CV] n_estimators=200 ................................................\n",
      "[CV] .................... n_estimators=200, score=0.889, total=   1.5s\n",
      "[Parallel(n_jobs=1)]: Done  40 out of  40 | elapsed:   17.7s finished\n"
     ]
    },
    {
     "output_type": "execute_result",
     "data": {
      "text/plain": [
       "GridSearchCV(estimator=RandomForestClassifier(n_estimators=50),\n",
       "             param_grid={'n_estimators': [0, 10, 20, 30, 40, 50, 100, 200]},\n",
       "             verbose=3)"
      ]
     },
     "metadata": {},
     "execution_count": 13
    }
   ],
   "source": [
    "# Train the model with GridSearch\n",
    "grid.fit(X_train_scaled, y_train)"
   ]
  },
  {
   "cell_type": "code",
   "execution_count": 14,
   "metadata": {},
   "outputs": [
    {
     "output_type": "stream",
     "name": "stdout",
     "text": [
      "{'n_estimators': 40}\n0.8956670838821414\n"
     ]
    }
   ],
   "source": [
    "print(grid.best_params_)\n",
    "print(grid.best_score_)"
   ]
  },
  {
   "cell_type": "code",
   "execution_count": 15,
   "metadata": {
    "scrolled": true
   },
   "outputs": [
    {
     "output_type": "stream",
     "name": "stdout",
     "text": [
      "                precision    recall  f1-score   support\n\n     CANDIDATE       0.00      0.00      0.00         0\n     CONFIRMED       0.00      0.00      0.00         0\nFALSE POSITIVE       1.00      0.50      0.67      1748\n\n      accuracy                           0.50      1748\n     macro avg       0.33      0.17      0.22      1748\n  weighted avg       1.00      0.50      0.67      1748\n\n"
     ]
    }
   ],
   "source": [
    "from sklearn.metrics import classification_report\n",
    "print(classification_report(rf.predict(X_test), y_test))"
   ]
  },
  {
   "cell_type": "code",
   "execution_count": 16,
   "metadata": {},
   "outputs": [
    {
     "output_type": "execute_result",
     "data": {
      "text/plain": [
       "[(0.13025165596127136, 'koi_model_snr'),\n",
       " (0.12553505218005426, 'koi_fpflag_nt'),\n",
       " (0.12540055622335952, 'koi_fpflag_co'),\n",
       " (0.09112888910530816, 'koi_fpflag_ss'),\n",
       " (0.08702242750585118, 'koi_prad'),\n",
       " (0.05006883021456349, 'koi_fpflag_ec'),\n",
       " (0.04982406104711554, 'koi_depth'),\n",
       " (0.045466876481923026, 'koi_period'),\n",
       " (0.03924821873434434, 'koi_impact'),\n",
       " (0.034401597523491055, 'koi_duration'),\n",
       " (0.03322903535396948, 'koi_time0bk'),\n",
       " (0.028885092137998076, 'koi_teq'),\n",
       " (0.02646515233746424, 'koi_insol'),\n",
       " (0.024744568688366705, 'ra'),\n",
       " (0.02264510709609781, 'koi_kepmag'),\n",
       " (0.022215116026925358, 'koi_steff'),\n",
       " (0.02140954985558422, 'koi_slogg'),\n",
       " (0.021387171042204126, 'dec'),\n",
       " (0.020671042484108115, 'koi_srad')]"
      ]
     },
     "metadata": {},
     "execution_count": 16
    }
   ],
   "source": [
    "# Ranking Feature based on their correlation\n",
    "ranked_features = sorted(zip(rf.feature_importances_, selected_features.columns.values), reverse=True)\n",
    "ranked_features"
   ]
  },
  {
   "cell_type": "code",
   "execution_count": 17,
   "metadata": {},
   "outputs": [
    {
     "output_type": "execute_result",
     "data": {
      "text/plain": [
       "      koi_fpflag_nt  koi_fpflag_ss  koi_fpflag_co  koi_fpflag_ec  koi_period  \\\n",
       "0                 0              0              0              0   54.418383   \n",
       "1                 0              1              0              0   19.899140   \n",
       "2                 0              1              0              0    1.736952   \n",
       "3                 0              0              0              0    2.525592   \n",
       "4                 0              0              0              0    4.134435   \n",
       "...             ...            ...            ...            ...         ...   \n",
       "6986              0              0              0              1    8.589871   \n",
       "6987              0              1              1              0    0.527699   \n",
       "6988              0              0              0              0    1.739849   \n",
       "6989              0              0              1              0    0.681402   \n",
       "6990              0              0              1              1    4.856035   \n",
       "\n",
       "      koi_time0bk  koi_impact  koi_duration  koi_depth  koi_prad  koi_teq  \\\n",
       "0      162.513840       0.586       4.50700      874.8      2.83      443   \n",
       "1      175.850252       0.969       1.78220    10829.0     14.60      638   \n",
       "2      170.307565       1.276       2.40641     8079.2     33.46     1395   \n",
       "3      171.595550       0.701       1.65450      603.3      2.75     1406   \n",
       "4      172.979370       0.762       3.14020      686.0      2.77     1160   \n",
       "...           ...         ...           ...        ...       ...      ...   \n",
       "6986   132.016100       0.765       4.80600       87.7      1.11      929   \n",
       "6987   131.705093       1.252       3.22210     1579.2     29.35     2088   \n",
       "6988   133.001270       0.043       3.11400       48.5      0.72     1608   \n",
       "6989   132.181750       0.147       0.86500      103.6      1.07     2218   \n",
       "6990   135.993300       0.134       3.07800       76.7      1.05     1266   \n",
       "\n",
       "      koi_insol  koi_model_snr  koi_steff         ra  koi_kepmag  \n",
       "0          9.11           25.8       5455  291.93423      15.347  \n",
       "1         39.30           76.3       5853  297.00482      15.436  \n",
       "2        891.96          505.6       5805  285.53461      15.597  \n",
       "3        926.16           40.9       6031  288.75488      15.509  \n",
       "4        427.65           40.2       6046  296.28613      15.714  \n",
       "...         ...            ...        ...        ...         ...  \n",
       "6986     176.40            8.4       5638  298.74921      14.478  \n",
       "6987    4500.53          453.3       5638  297.18875      14.082  \n",
       "6988    1585.81           10.6       6119  286.50937      14.757  \n",
       "6989    5713.41           12.3       6173  294.16489      15.385  \n",
       "6990     607.42            8.2       6469  297.00977      14.826  \n",
       "\n",
       "[6991 rows x 16 columns]"
      ],
      "text/html": "<div>\n<style scoped>\n    .dataframe tbody tr th:only-of-type {\n        vertical-align: middle;\n    }\n\n    .dataframe tbody tr th {\n        vertical-align: top;\n    }\n\n    .dataframe thead th {\n        text-align: right;\n    }\n</style>\n<table border=\"1\" class=\"dataframe\">\n  <thead>\n    <tr style=\"text-align: right;\">\n      <th></th>\n      <th>koi_fpflag_nt</th>\n      <th>koi_fpflag_ss</th>\n      <th>koi_fpflag_co</th>\n      <th>koi_fpflag_ec</th>\n      <th>koi_period</th>\n      <th>koi_time0bk</th>\n      <th>koi_impact</th>\n      <th>koi_duration</th>\n      <th>koi_depth</th>\n      <th>koi_prad</th>\n      <th>koi_teq</th>\n      <th>koi_insol</th>\n      <th>koi_model_snr</th>\n      <th>koi_steff</th>\n      <th>ra</th>\n      <th>koi_kepmag</th>\n    </tr>\n  </thead>\n  <tbody>\n    <tr>\n      <th>0</th>\n      <td>0</td>\n      <td>0</td>\n      <td>0</td>\n      <td>0</td>\n      <td>54.418383</td>\n      <td>162.513840</td>\n      <td>0.586</td>\n      <td>4.50700</td>\n      <td>874.8</td>\n      <td>2.83</td>\n      <td>443</td>\n      <td>9.11</td>\n      <td>25.8</td>\n      <td>5455</td>\n      <td>291.93423</td>\n      <td>15.347</td>\n    </tr>\n    <tr>\n      <th>1</th>\n      <td>0</td>\n      <td>1</td>\n      <td>0</td>\n      <td>0</td>\n      <td>19.899140</td>\n      <td>175.850252</td>\n      <td>0.969</td>\n      <td>1.78220</td>\n      <td>10829.0</td>\n      <td>14.60</td>\n      <td>638</td>\n      <td>39.30</td>\n      <td>76.3</td>\n      <td>5853</td>\n      <td>297.00482</td>\n      <td>15.436</td>\n    </tr>\n    <tr>\n      <th>2</th>\n      <td>0</td>\n      <td>1</td>\n      <td>0</td>\n      <td>0</td>\n      <td>1.736952</td>\n      <td>170.307565</td>\n      <td>1.276</td>\n      <td>2.40641</td>\n      <td>8079.2</td>\n      <td>33.46</td>\n      <td>1395</td>\n      <td>891.96</td>\n      <td>505.6</td>\n      <td>5805</td>\n      <td>285.53461</td>\n      <td>15.597</td>\n    </tr>\n    <tr>\n      <th>3</th>\n      <td>0</td>\n      <td>0</td>\n      <td>0</td>\n      <td>0</td>\n      <td>2.525592</td>\n      <td>171.595550</td>\n      <td>0.701</td>\n      <td>1.65450</td>\n      <td>603.3</td>\n      <td>2.75</td>\n      <td>1406</td>\n      <td>926.16</td>\n      <td>40.9</td>\n      <td>6031</td>\n      <td>288.75488</td>\n      <td>15.509</td>\n    </tr>\n    <tr>\n      <th>4</th>\n      <td>0</td>\n      <td>0</td>\n      <td>0</td>\n      <td>0</td>\n      <td>4.134435</td>\n      <td>172.979370</td>\n      <td>0.762</td>\n      <td>3.14020</td>\n      <td>686.0</td>\n      <td>2.77</td>\n      <td>1160</td>\n      <td>427.65</td>\n      <td>40.2</td>\n      <td>6046</td>\n      <td>296.28613</td>\n      <td>15.714</td>\n    </tr>\n    <tr>\n      <th>...</th>\n      <td>...</td>\n      <td>...</td>\n      <td>...</td>\n      <td>...</td>\n      <td>...</td>\n      <td>...</td>\n      <td>...</td>\n      <td>...</td>\n      <td>...</td>\n      <td>...</td>\n      <td>...</td>\n      <td>...</td>\n      <td>...</td>\n      <td>...</td>\n      <td>...</td>\n      <td>...</td>\n    </tr>\n    <tr>\n      <th>6986</th>\n      <td>0</td>\n      <td>0</td>\n      <td>0</td>\n      <td>1</td>\n      <td>8.589871</td>\n      <td>132.016100</td>\n      <td>0.765</td>\n      <td>4.80600</td>\n      <td>87.7</td>\n      <td>1.11</td>\n      <td>929</td>\n      <td>176.40</td>\n      <td>8.4</td>\n      <td>5638</td>\n      <td>298.74921</td>\n      <td>14.478</td>\n    </tr>\n    <tr>\n      <th>6987</th>\n      <td>0</td>\n      <td>1</td>\n      <td>1</td>\n      <td>0</td>\n      <td>0.527699</td>\n      <td>131.705093</td>\n      <td>1.252</td>\n      <td>3.22210</td>\n      <td>1579.2</td>\n      <td>29.35</td>\n      <td>2088</td>\n      <td>4500.53</td>\n      <td>453.3</td>\n      <td>5638</td>\n      <td>297.18875</td>\n      <td>14.082</td>\n    </tr>\n    <tr>\n      <th>6988</th>\n      <td>0</td>\n      <td>0</td>\n      <td>0</td>\n      <td>0</td>\n      <td>1.739849</td>\n      <td>133.001270</td>\n      <td>0.043</td>\n      <td>3.11400</td>\n      <td>48.5</td>\n      <td>0.72</td>\n      <td>1608</td>\n      <td>1585.81</td>\n      <td>10.6</td>\n      <td>6119</td>\n      <td>286.50937</td>\n      <td>14.757</td>\n    </tr>\n    <tr>\n      <th>6989</th>\n      <td>0</td>\n      <td>0</td>\n      <td>1</td>\n      <td>0</td>\n      <td>0.681402</td>\n      <td>132.181750</td>\n      <td>0.147</td>\n      <td>0.86500</td>\n      <td>103.6</td>\n      <td>1.07</td>\n      <td>2218</td>\n      <td>5713.41</td>\n      <td>12.3</td>\n      <td>6173</td>\n      <td>294.16489</td>\n      <td>15.385</td>\n    </tr>\n    <tr>\n      <th>6990</th>\n      <td>0</td>\n      <td>0</td>\n      <td>1</td>\n      <td>1</td>\n      <td>4.856035</td>\n      <td>135.993300</td>\n      <td>0.134</td>\n      <td>3.07800</td>\n      <td>76.7</td>\n      <td>1.05</td>\n      <td>1266</td>\n      <td>607.42</td>\n      <td>8.2</td>\n      <td>6469</td>\n      <td>297.00977</td>\n      <td>14.826</td>\n    </tr>\n  </tbody>\n</table>\n<p>6991 rows × 16 columns</p>\n</div>"
     },
     "metadata": {},
     "execution_count": 17
    }
   ],
   "source": [
    "# Removing Bootom 4 features, having least impact to y.\n",
    "refined_features = selected_features\n",
    "for n in range(0, 3):\n",
    "    refined_features = refined_features.drop(ranked_features[-n-1][1], axis = 1)\n",
    "    \n",
    "refined_features"
   ]
  },
  {
   "cell_type": "code",
   "execution_count": 18,
   "metadata": {},
   "outputs": [
    {
     "output_type": "stream",
     "name": "stdout",
     "text": [
      "Training Data Score: 1.0\nTesting Data Score: 0.9061784897025171\n                precision    recall  f1-score   support\n\n     CANDIDATE       1.00      0.49      0.65       861\n     CONFIRMED       0.00      0.00      0.00         0\nFALSE POSITIVE       1.00      0.99      0.99       887\n\n      accuracy                           0.74      1748\n     macro avg       0.66      0.49      0.55      1748\n  weighted avg       1.00      0.74      0.83      1748\n\n"
     ]
    }
   ],
   "source": [
    "# Running Random Forest again with outputs in above step\n",
    "X2 = refined_features\n",
    "X2_train, X2_test, y2_train, y2_test = train_test_split(X2, y, random_state=42, stratify = y)\n",
    "X2_scaler = MinMaxScaler().fit(X2_train)\n",
    "\n",
    "X2_train_scaled = X2_scaler.transform(X2_train)\n",
    "X2_test_scaled = X2_scaler.transform(X2_test)\n",
    "\n",
    "rf2 = RandomForestClassifier(n_estimators=200)\n",
    "rf2 = rf2.fit(X2_train_scaled, y2_train)\n",
    "\n",
    "print(f\"Training Data Score: {rf2.score(X2_train_scaled, y2_train)}\")\n",
    "print(f\"Testing Data Score: {rf2.score(X2_test_scaled, y2_test)}\")\n",
    "print(classification_report(rf2.predict(X2_test), y2_test))"
   ]
  },
  {
   "source": [
    "Just by removing bottom 4 features, Candidate score jumped to 100%, that means we have 100% accuracy model for Candidate and False Positive. However Confirm does not have any precision value"
   ],
   "cell_type": "markdown",
   "metadata": {}
  },
  {
   "cell_type": "code",
   "execution_count": 19,
   "metadata": {},
   "outputs": [
    {
     "output_type": "execute_result",
     "data": {
      "text/plain": [
       "[(0.13883247527993217, 'koi_fpflag_co'),\n",
       " (0.13770599661519445, 'koi_model_snr'),\n",
       " (0.1340218974517617, 'koi_fpflag_nt'),\n",
       " (0.1058406960208216, 'koi_fpflag_ss'),\n",
       " (0.07825251571117937, 'koi_prad'),\n",
       " (0.06003480903059516, 'koi_depth'),\n",
       " (0.0461831020720456, 'koi_period'),\n",
       " (0.04499212970152395, 'koi_fpflag_ec'),\n",
       " (0.04230354069775751, 'koi_impact'),\n",
       " (0.037149643068408046, 'koi_duration'),\n",
       " (0.03463005859777984, 'koi_teq'),\n",
       " (0.031418457796511624, 'koi_time0bk'),\n",
       " (0.029576132353008173, 'koi_insol'),\n",
       " (0.02724915745829047, 'koi_slogg'),\n",
       " (0.02645436970946157, 'koi_steff'),\n",
       " (0.025355018435728828, 'koi_srad')]"
      ]
     },
     "metadata": {},
     "execution_count": 19
    }
   ],
   "source": [
    "sorted(zip(rf2.feature_importances_, selected_features.columns.values), reverse=True)"
   ]
  },
  {
   "cell_type": "code",
   "execution_count": 20,
   "metadata": {},
   "outputs": [
    {
     "output_type": "stream",
     "name": "stdout",
     "text": [
      "Counter({'FALSE POSITIVE': 2628, 'CONFIRMED': 1350, 'CANDIDATE': 1265})\nCounter({'FALSE POSITIVE': 876, 'CONFIRMED': 450, 'CANDIDATE': 422})\n"
     ]
    }
   ],
   "source": [
    "from collections import Counter\n",
    "print(Counter(y2_train))\n",
    "print(Counter(y2_test))"
   ]
  },
  {
   "cell_type": "markdown",
   "metadata": {},
   "source": [
    "# Save the Model"
   ]
  },
  {
   "cell_type": "code",
   "execution_count": 21,
   "metadata": {},
   "outputs": [
    {
     "output_type": "execute_result",
     "data": {
      "text/plain": [
       "['Jagrati_Joshi_Model2_RandomForest.sav']"
      ]
     },
     "metadata": {},
     "execution_count": 21
    }
   ],
   "source": [
    "# saving the model\n",
    "import joblib\n",
    "filename = 'Jagrati_Joshi_Model2_RandomForest.sav'\n",
    "joblib.dump(rf2, filename)"
   ]
  },
  {
   "cell_type": "code",
   "execution_count": null,
   "metadata": {},
   "outputs": [],
   "source": []
  }
 ],
 "metadata": {
  "kernel_info": {
   "name": "dev"
  },
  "kernelspec": {
   "display_name": "Python 3",
   "language": "python",
   "name": "python3"
  },
  "language_info": {
   "codemirror_mode": {
    "name": "ipython",
    "version": 3
   },
   "file_extension": ".py",
   "mimetype": "text/x-python",
   "name": "python",
   "nbconvert_exporter": "python",
   "pygments_lexer": "ipython3",
   "version": "3.8.5-final"
  },
  "nteract": {
   "version": "0.12.3"
  }
 },
 "nbformat": 4,
 "nbformat_minor": 4
}